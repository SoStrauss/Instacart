{
 "cells": [
  {
   "cell_type": "code",
   "execution_count": 1,
   "id": "dc7b856a",
   "metadata": {},
   "outputs": [],
   "source": [
    "# Importing libraries\n",
    "\n",
    "import pandas as pd\n",
    "import numpy as np\n",
    "import os\n",
    "import matplotlib.pyplot as plt\n",
    "import seaborn as sns\n",
    "import scipy"
   ]
  },
  {
   "cell_type": "code",
   "execution_count": 2,
   "id": "760df959",
   "metadata": {},
   "outputs": [
    {
     "data": {
      "text/plain": [
       "'/Users/sophie/Desktop/CareerFoundry /09 2023 Phython'"
      ]
     },
     "execution_count": 2,
     "metadata": {},
     "output_type": "execute_result"
    }
   ],
   "source": [
    "path = r'/Users/sophie/Desktop/CareerFoundry /09 2023 Phython'\n",
    "path"
   ]
  },
  {
   "cell_type": "code",
   "execution_count": 5,
   "id": "c1d7e9b4",
   "metadata": {},
   "outputs": [
    {
     "data": {
      "text/html": [
       "<div>\n",
       "<style scoped>\n",
       "    .dataframe tbody tr th:only-of-type {\n",
       "        vertical-align: middle;\n",
       "    }\n",
       "\n",
       "    .dataframe tbody tr th {\n",
       "        vertical-align: top;\n",
       "    }\n",
       "\n",
       "    .dataframe thead th {\n",
       "        text-align: right;\n",
       "    }\n",
       "</style>\n",
       "<table border=\"1\" class=\"dataframe\">\n",
       "  <thead>\n",
       "    <tr style=\"text-align: right;\">\n",
       "      <th></th>\n",
       "      <th>Unnamed: 0</th>\n",
       "      <th>department</th>\n",
       "    </tr>\n",
       "  </thead>\n",
       "  <tbody>\n",
       "    <tr>\n",
       "      <th>0</th>\n",
       "      <td>1</td>\n",
       "      <td>frozen</td>\n",
       "    </tr>\n",
       "    <tr>\n",
       "      <th>1</th>\n",
       "      <td>2</td>\n",
       "      <td>other</td>\n",
       "    </tr>\n",
       "    <tr>\n",
       "      <th>2</th>\n",
       "      <td>3</td>\n",
       "      <td>bakery</td>\n",
       "    </tr>\n",
       "    <tr>\n",
       "      <th>3</th>\n",
       "      <td>4</td>\n",
       "      <td>produce</td>\n",
       "    </tr>\n",
       "    <tr>\n",
       "      <th>4</th>\n",
       "      <td>5</td>\n",
       "      <td>alcohol</td>\n",
       "    </tr>\n",
       "    <tr>\n",
       "      <th>5</th>\n",
       "      <td>6</td>\n",
       "      <td>international</td>\n",
       "    </tr>\n",
       "    <tr>\n",
       "      <th>6</th>\n",
       "      <td>7</td>\n",
       "      <td>beverages</td>\n",
       "    </tr>\n",
       "    <tr>\n",
       "      <th>7</th>\n",
       "      <td>8</td>\n",
       "      <td>pets</td>\n",
       "    </tr>\n",
       "    <tr>\n",
       "      <th>8</th>\n",
       "      <td>9</td>\n",
       "      <td>dry goods pasta</td>\n",
       "    </tr>\n",
       "    <tr>\n",
       "      <th>9</th>\n",
       "      <td>10</td>\n",
       "      <td>bulk</td>\n",
       "    </tr>\n",
       "    <tr>\n",
       "      <th>10</th>\n",
       "      <td>11</td>\n",
       "      <td>personal care</td>\n",
       "    </tr>\n",
       "    <tr>\n",
       "      <th>11</th>\n",
       "      <td>12</td>\n",
       "      <td>meat seafood</td>\n",
       "    </tr>\n",
       "    <tr>\n",
       "      <th>12</th>\n",
       "      <td>13</td>\n",
       "      <td>pantry</td>\n",
       "    </tr>\n",
       "    <tr>\n",
       "      <th>13</th>\n",
       "      <td>14</td>\n",
       "      <td>breakfast</td>\n",
       "    </tr>\n",
       "    <tr>\n",
       "      <th>14</th>\n",
       "      <td>15</td>\n",
       "      <td>canned goods</td>\n",
       "    </tr>\n",
       "    <tr>\n",
       "      <th>15</th>\n",
       "      <td>16</td>\n",
       "      <td>dairy eggs</td>\n",
       "    </tr>\n",
       "    <tr>\n",
       "      <th>16</th>\n",
       "      <td>17</td>\n",
       "      <td>household</td>\n",
       "    </tr>\n",
       "    <tr>\n",
       "      <th>17</th>\n",
       "      <td>18</td>\n",
       "      <td>babies</td>\n",
       "    </tr>\n",
       "    <tr>\n",
       "      <th>18</th>\n",
       "      <td>19</td>\n",
       "      <td>snacks</td>\n",
       "    </tr>\n",
       "    <tr>\n",
       "      <th>19</th>\n",
       "      <td>20</td>\n",
       "      <td>deli</td>\n",
       "    </tr>\n",
       "    <tr>\n",
       "      <th>20</th>\n",
       "      <td>21</td>\n",
       "      <td>missing</td>\n",
       "    </tr>\n",
       "  </tbody>\n",
       "</table>\n",
       "</div>"
      ],
      "text/plain": [
       "    Unnamed: 0       department\n",
       "0            1           frozen\n",
       "1            2            other\n",
       "2            3           bakery\n",
       "3            4          produce\n",
       "4            5          alcohol\n",
       "5            6    international\n",
       "6            7        beverages\n",
       "7            8             pets\n",
       "8            9  dry goods pasta\n",
       "9           10             bulk\n",
       "10          11    personal care\n",
       "11          12     meat seafood\n",
       "12          13           pantry\n",
       "13          14        breakfast\n",
       "14          15     canned goods\n",
       "15          16       dairy eggs\n",
       "16          17        household\n",
       "17          18           babies\n",
       "18          19           snacks\n",
       "19          20             deli\n",
       "20          21          missing"
      ]
     },
     "execution_count": 5,
     "metadata": {},
     "output_type": "execute_result"
    }
   ],
   "source": [
    "departments = pd.read_csv(os.path.join(path, 'Data', 'prepared data ', 'departments_wrangled.csv'))\n",
    "pd.options.display.max_columns = None\n",
    "departments.head(50)"
   ]
  },
  {
   "cell_type": "code",
   "execution_count": null,
   "id": "9b0be3aa",
   "metadata": {},
   "outputs": [],
   "source": [
    "# All lines below are not valid, because the last criteria overwrites everything - separate flags!"
   ]
  },
  {
   "cell_type": "code",
   "execution_count": null,
   "id": "566c8b4f",
   "metadata": {},
   "outputs": [],
   "source": [
    "# Define conditions for different profiles based on criteria\n",
    "# Age and income separate\n",
    "merged_df.loc[merged_df['age'] < 35, 'profile'] = 'Young Adult'\n",
    "merged_df.loc[(merged_df['age'] >= 35) & (merged_df['age'] <= 60),'profile'] = 'Middle-Aged Adult'\n",
    "merged_df.loc[merged_df['age'] > 60, 'profile'] = 'Old Adult'\n",
    "merged_df.loc[merged_df['income'] < 48500, 'profile'] = 'Low Income'\n",
    "merged_df.loc[(merged_df['income'] >=  48500) & (merged_df['income'] < 145500), 'profile'] = 'Moderate Income'\n",
    "merged_df.loc[merged_df['income'] >= 145500, 'profile'] = 'High Income'\n",
    "\n",
    "# Age and income combined\n",
    "merged_df.loc[(merged_df['age'] < 35) & (merged_df['income'] < 48500), 'profile'] = 'Young Adult (Low Income)'\n",
    "merged_df.loc[(merged_df['age'] < 35) & (merged_df['income'] >= 145500), 'profile'] = 'Young Adult (High Income)'\n",
    "merged_df.loc[(merged_df['age'] >= 35) & (merged_df['age'] <= 60) & (merged_df['income'] >= 48500) & (merged_df['income'] < 145500), 'profile'] = 'Middle-Aged (Moderate Income)'\n",
    "merged_df.loc[(merged_df['age'] > 60) & (merged_df['income'] >= 48500) & (merged_df['income'] < 145500), 'profile'] = 'Senior Citizen (Moderate Income)'\n",
    "\n",
    "# Household size\n",
    "merged_df.loc[merged_df['n_dependants'] == 0, 'profile'] = 'Single Household'\n",
    "merged_df.loc[(merged_df['n_dependants'] >=1) & (merged_df['n_dependants'] < 3), 'profile'] = 'Small Family'\n",
    "merged_df.loc[merged_df['n_dependants'] >= 3, 'profile'] = 'Large Family'\n",
    "\n",
    "# Lifestyle\n",
    "merged_df.loc[merged_df['department_id'] == 8, 'profile'] = 'Pet Owner'\n",
    "merged_df.loc[merged_df['department_id'] == 18, 'profile'] = 'Young Parents'\n",
    "merged_df.loc[merged_df['department_id'] == 12, 'profile'] = 'Carnivor'\n",
    "merged_df.loc[merged_df['department_id'].isin([1, 15, 13, 9]), 'profile'] = 'Prepper'\n",
    "# How do I get \"is in all of the following\" (\"And\", not \"Or\")?\n",
    "merged_df.loc[merged_df['department_id'] == 20, 'profile'] = 'Foodie'\n",
    "merged_df.loc[merged_df['department_id'].isin([5, 19]), 'profile'] = 'Party Person'\n",
    "merged_df.loc[merged_df['department_id'].isin([14, 16]), 'profile'] = 'Breakfast Person'\n",
    "\n",
    "# Day and hour of shopping\n",
    "merged_df.loc[merged_df['orders_day_of_week'].isin([0, 1]), 'profile'] = 'Weekend Shopper'\n",
    "merged_df.loc[merged_df['orders_day_of_week'].isin([5, 6]), 'profile'] = 'End of Week'\n",
    "merged_df.loc[merged_df['orders_day_of_week'].isin([2, 3]), 'profile'] = 'Beginning of Week'\n",
    "merged_df.loc[(merged_df['order_hour_of_day'] >= 5) & (merged_df['order_hour_of_day'] < 10), 'profile'] = 'Early Bird'\n",
    "merged_df.loc[(merged_df['order_hour_of_day'] >= 23) | (merged_df['order_hour_of_day'] < 5), 'profile'] = 'Night Owl'"
   ]
  },
  {
   "cell_type": "code",
   "execution_count": null,
   "id": "ef29ab0b",
   "metadata": {},
   "outputs": [],
   "source": [
    "# Display the DataFrame with profiling variables\n",
    "subset_df = merged_df[['user_id', 'profile']]\n",
    "print(subset_df.head(30))"
   ]
  },
  {
   "cell_type": "code",
   "execution_count": null,
   "id": "c0cd9a46",
   "metadata": {},
   "outputs": [],
   "source": [
    "merged_df['profile'].value_counts()"
   ]
  },
  {
   "cell_type": "code",
   "execution_count": null,
   "id": "0bed3375",
   "metadata": {},
   "outputs": [],
   "source": [
    "bar = merged_df['profile'].value_counts().plot.bar(color = ['blue', 'lightblue'])"
   ]
  },
  {
   "cell_type": "code",
   "execution_count": null,
   "id": "dcf5db10",
   "metadata": {},
   "outputs": [],
   "source": [
    "# Trying to get all summary stats at once, didn't work\n",
    "def calculate_summary_stats(merged_df, groupby_columns, agg_dict):\n",
    "    summary_stats = merged_df.groupby(groupby_columns).agg(agg_dict)\n",
    "    \n",
    "    return summary_stats\n",
    "\n",
    "groupby_columns = ['profile_age', 'profile_inc', 'profile_age_inc', 'profile_dep', 'profile_life', 'profile_day', 'profile_hour']  # List of columns to group by\n",
    "\n",
    "agg_dict = {\n",
    "    'days_since_prior_order': ['mean', 'min', 'max'],\n",
    "    'prices': ['mean', 'min', 'max']\n",
    "}\n",
    "\n",
    "result = calculate_summary_stats(merged_df, groupby_columns, agg_dict)\n",
    "print(result)\n",
    "result.to_clipboard()"
   ]
  },
  {
   "cell_type": "code",
   "execution_count": 6,
   "id": "42b03b5a",
   "metadata": {},
   "outputs": [],
   "source": [
    "# Müsste nicht alles group.by user_id sein, wenn es um die Profile geht? Im Moment wird ja alles auf Ebene der Bestellungen zusammengefasst."
   ]
  },
  {
   "cell_type": "code",
   "execution_count": 10,
   "id": "6cf3ebae",
   "metadata": {},
   "outputs": [
    {
     "data": {
      "text/plain": [
       "(3421083, 7)"
      ]
     },
     "execution_count": 10,
     "metadata": {},
     "output_type": "execute_result"
    }
   ],
   "source": [
    "# Population Flow\n",
    "# Original data\n",
    "orders = pd.read_csv(os.path.join(path, 'Data', 'original data ', 'orders.csv'))\n",
    "orders.shape"
   ]
  },
  {
   "cell_type": "code",
   "execution_count": 11,
   "id": "225eda86",
   "metadata": {},
   "outputs": [
    {
     "data": {
      "text/plain": [
       "(32434489, 4)"
      ]
     },
     "execution_count": 11,
     "metadata": {},
     "output_type": "execute_result"
    }
   ],
   "source": [
    "ord_prod_prior = pd.read_csv(os.path.join(path, 'Data', 'original data ', 'orders_products_prior.csv'))\n",
    "ord_prod_prior.shape"
   ]
  },
  {
   "cell_type": "code",
   "execution_count": 12,
   "id": "0ac411eb",
   "metadata": {},
   "outputs": [
    {
     "data": {
      "text/plain": [
       "(206209, 10)"
      ]
     },
     "execution_count": 12,
     "metadata": {},
     "output_type": "execute_result"
    }
   ],
   "source": [
    "customers = pd.read_csv(os.path.join(path, 'Data', 'original data ', 'customers.csv'))\n",
    "customers.shape"
   ]
  },
  {
   "cell_type": "code",
   "execution_count": 13,
   "id": "3fc83a28",
   "metadata": {},
   "outputs": [
    {
     "data": {
      "text/plain": [
       "(49693, 5)"
      ]
     },
     "execution_count": 13,
     "metadata": {},
     "output_type": "execute_result"
    }
   ],
   "source": [
    "products = pd.read_csv(os.path.join(path, 'Data', 'original data ', 'products.csv'))\n",
    "products.shape"
   ]
  },
  {
   "cell_type": "code",
   "execution_count": null,
   "id": "90aacd19",
   "metadata": {},
   "outputs": [],
   "source": [
    "# After consistency checks"
   ]
  },
  {
   "cell_type": "code",
   "execution_count": 14,
   "id": "0329714c",
   "metadata": {},
   "outputs": [
    {
     "data": {
      "text/plain": [
       "(3421083, 9)"
      ]
     },
     "execution_count": 14,
     "metadata": {},
     "output_type": "execute_result"
    }
   ],
   "source": [
    "orders_check = pd.read_csv(os.path.join(path, 'Data', 'prepared data ', 'orders_checked.csv'))\n",
    "orders_check.shape"
   ]
  },
  {
   "cell_type": "code",
   "execution_count": 15,
   "id": "77d04538",
   "metadata": {},
   "outputs": [
    {
     "data": {
      "text/plain": [
       "(49672, 6)"
      ]
     },
     "execution_count": 15,
     "metadata": {},
     "output_type": "execute_result"
    }
   ],
   "source": [
    "prod_check = pd.read_csv(os.path.join(path, 'Data', 'prepared data ', 'products_checked.csv'))\n",
    "prod_check.shape"
   ]
  },
  {
   "cell_type": "code",
   "execution_count": 4,
   "id": "46b8a383",
   "metadata": {},
   "outputs": [
    {
     "data": {
      "text/plain": [
       "(32434489, 11)"
      ]
     },
     "execution_count": 4,
     "metadata": {},
     "output_type": "execute_result"
    }
   ],
   "source": [
    "orders_products_combined = pd.read_pickle(os.path.join(path, 'Data', 'prepared data ', 'orders_products_combined.pkl'))\n",
    "orders_products_combined.shape"
   ]
  },
  {
   "cell_type": "code",
   "execution_count": 5,
   "id": "85c44def",
   "metadata": {},
   "outputs": [
    {
     "data": {
      "text/plain": [
       "(32404859, 15)"
      ]
     },
     "execution_count": 5,
     "metadata": {},
     "output_type": "execute_result"
    }
   ],
   "source": [
    "orders_products_merged = pd.read_pickle(os.path.join(path, 'Data', 'prepared data ', 'orders_products_merged.pkl'))\n",
    "orders_products_merged.shape"
   ]
  },
  {
   "cell_type": "code",
   "execution_count": 7,
   "id": "9d46d7c8",
   "metadata": {},
   "outputs": [
    {
     "data": {
      "text/plain": [
       "(32404859, 26)"
      ]
     },
     "execution_count": 7,
     "metadata": {},
     "output_type": "execute_result"
    }
   ],
   "source": [
    "ords_prods_merge = pd.read_pickle(os.path.join(path, 'Data', 'prepared data ', 'ords_prods_merge_price_clean.pkl'))\n",
    "ords_prods_merge.shape"
   ]
  },
  {
   "cell_type": "code",
   "execution_count": 8,
   "id": "c22659cd",
   "metadata": {},
   "outputs": [
    {
     "data": {
      "text/plain": [
       "(32404859, 35)"
      ]
     },
     "execution_count": 8,
     "metadata": {},
     "output_type": "execute_result"
    }
   ],
   "source": [
    "df_merge_instacard_cust = pd.read_pickle(os.path.join(path, 'Data', 'prepared data ', 'df_merge_instacard_cust.pkl'))\n",
    "df_merge_instacard_cust.shape"
   ]
  },
  {
   "cell_type": "code",
   "execution_count": 9,
   "id": "26f59e72",
   "metadata": {},
   "outputs": [
    {
     "data": {
      "text/plain": [
       "(30964564, 45)"
      ]
     },
     "execution_count": 9,
     "metadata": {},
     "output_type": "execute_result"
    }
   ],
   "source": [
    "instacard_customer_analyses = pd.read_pickle(os.path.join(path, 'Data', 'prepared data ', 'instacard_customer_analyses.pkl'))\n",
    "instacard_customer_analyses.shape"
   ]
  },
  {
   "cell_type": "code",
   "execution_count": null,
   "id": "4226bcae",
   "metadata": {},
   "outputs": [],
   "source": [
    "df_prods['department_id']==19"
   ]
  }
 ],
 "metadata": {
  "kernelspec": {
   "display_name": "Python 3 (ipykernel)",
   "language": "python",
   "name": "python3"
  },
  "language_info": {
   "codemirror_mode": {
    "name": "ipython",
    "version": 3
   },
   "file_extension": ".py",
   "mimetype": "text/x-python",
   "name": "python",
   "nbconvert_exporter": "python",
   "pygments_lexer": "ipython3",
   "version": "3.11.4"
  },
  "varInspector": {
   "cols": {
    "lenName": 16,
    "lenType": 16,
    "lenVar": 40
   },
   "kernels_config": {
    "python": {
     "delete_cmd_postfix": "",
     "delete_cmd_prefix": "del ",
     "library": "var_list.py",
     "varRefreshCmd": "print(var_dic_list())"
    },
    "r": {
     "delete_cmd_postfix": ") ",
     "delete_cmd_prefix": "rm(",
     "library": "var_list.r",
     "varRefreshCmd": "cat(var_dic_list()) "
    }
   },
   "types_to_exclude": [
    "module",
    "function",
    "builtin_function_or_method",
    "instance",
    "_Feature"
   ],
   "window_display": false
  }
 },
 "nbformat": 4,
 "nbformat_minor": 5
}
